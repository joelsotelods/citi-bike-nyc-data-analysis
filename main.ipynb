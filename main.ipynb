{
 "cells": [
  {
   "cell_type": "markdown",
   "metadata": {},
   "source": [
    "## Import dependencies"
   ]
  },
  {
   "cell_type": "code",
   "execution_count": 1,
   "metadata": {},
   "outputs": [],
   "source": [
    "import pandas as pd\n",
    "import sqlalchemy\n",
    "from sqlalchemy import create_engine\n",
    "import os\n",
    "\n",
    "from pandas.io import sql\n",
    "\n",
    "from pandas import DataFrame\n",
    "\n",
    "\n",
    "import mysql.connector\n",
    "from mysql.connector import Error\n",
    "from mysql.connector import errorcode"
   ]
  },
  {
   "cell_type": "code",
   "execution_count": 2,
   "metadata": {},
   "outputs": [],
   "source": [
    "from config import database_username\n",
    "from config import database_password"
   ]
  },
  {
   "cell_type": "markdown",
   "metadata": {},
   "source": [
    "### Read all the file names and store them into a List"
   ]
  },
  {
   "cell_type": "code",
   "execution_count": 3,
   "metadata": {},
   "outputs": [
    {
     "name": "stdout",
     "output_type": "stream",
     "text": [
      "['201709-citibike-tripdata.csv', '201809-citibike-tripdata.csv', '201701-citibike-tripdata.csv', '201602-citibike-tripdata.csv', '201902-citibike-tripdata.csv', '201512-citibike-tripdata.csv', '201411-citibike-tripdata.csv', '201801-citibike-tripdata.csv', '201407-citibike-tripdata.csv', '201504-citibike-tripdata.csv', '201309-citibike-tripdata.csv', '201608-citibike-tripdata.csv', '201510-citibike-tripdata.csv', '201803-citibike-tripdata.csv', '201405-citibike-tripdata.csv', '201506-citibike-tripdata.csv', '201703-citibike-tripdata.csv', '201311-citibike-tripdata.csv', '201610-citibike-tripdata.csv', '201606-citibike-tripdata.csv', '201307-citibike-tripdata.csv', '201705-citibike-tripdata.csv', '201805-citibike-tripdata.csv', '201403-citibike-tripdata.csv', '201508-citibike-tripdata.csv', '201807-citibike-tripdata.csv', '201502-citibike-tripdata.csv', '201811-citibike-tripdata.csv', '201401-citibike-tripdata.csv', '201711-citibike-tripdata.csv', '201612-citibike-tripdata.csv', '201604-citibike-tripdata.csv', '201707-citibike-tripdata.csv', '201409-citibike-tripdata.csv', '201603-citibike-tripdata.csv', '201406-citibike-tripdata.csv', '201505-citibike-tripdata.csv', '201903-citibike-tripdata.csv', '201410-citibike-tripdata.csv', '201708-citibike-tripdata.csv', '201808-citibike-tripdata.csv', '201404-citibike-tripdata.csv', '201507-citibike-tripdata.csv', '201511-citibike-tripdata.csv', '201901-citibike-tripdata.csv', '201802-citibike-tripdata.csv', '201412-citibike-tripdata.csv', '201702-citibike-tripdata.csv', '201601-citibike-tripdata.csv', '201308-citibike-tripdata.csv', '201609-citibike-tripdata.csv', '201509-citibike-tripdata.csv', '201607-citibike-tripdata.csv', '201306-citibike-tripdata.csv', '201704-citibike-tripdata.csv', '201712-citibike-tripdata.csv', '201310-citibike-tripdata.csv', '201611-citibike-tripdata.csv', '201501-citibike-tripdata.csv', '201402-citibike-tripdata.csv', '201812-citibike-tripdata.csv', '201804-citibike-tripdata.csv', '201408-citibike-tripdata.csv', '201503-citibike-tripdata.csv', '201810-citibike-tripdata.csv', '201806-citibike-tripdata.csv', '201605-citibike-tripdata.csv', '201706-citibike-tripdata.csv', '201710-citibike-tripdata.csv', '201312-citibike-tripdata.csv']\n",
      "<class 'list'>\n",
      "70\n"
     ]
    }
   ],
   "source": [
    "pwd = os.getcwd()\n",
    "#print(pwd)\n",
    "pwd = pwd + '/data/csv'\n",
    "#print(pwd)\n",
    "\n",
    "\n",
    "for path, folders, files in os.walk(pwd):\n",
    "   ## just rename folders inside path \n",
    "    if pwd == path:\n",
    "        #print(path)\n",
    "        #print(folders)\n",
    "        print(files)\n",
    "print(type(files))\n",
    "print(len(files))"
   ]
  },
  {
   "cell_type": "code",
   "execution_count": 4,
   "metadata": {},
   "outputs": [],
   "source": [
    "# SOrt all files\n",
    "\n",
    "files.sort()"
   ]
  },
  {
   "cell_type": "markdown",
   "metadata": {},
   "source": [
    "### Connect to the database"
   ]
  },
  {
   "cell_type": "code",
   "execution_count": 5,
   "metadata": {},
   "outputs": [],
   "source": [
    "database_ip       = '127.0.0.1'\n",
    "database_name     = 'citybike_db'"
   ]
  },
  {
   "cell_type": "code",
   "execution_count": 6,
   "metadata": {},
   "outputs": [],
   "source": [
    "mydb = mysql.connector.connect(\n",
    "  host=database_ip,\n",
    "  user=database_username,\n",
    "  passwd=database_password\n",
    ")\n",
    "\n",
    "mycursor = mydb.cursor()\n",
    "\n",
    "mycursor.execute(\"CREATE DATABASE IF NOT EXISTS citybike_db;\")\n",
    "\n",
    "mydb.close()"
   ]
  },
  {
   "cell_type": "code",
   "execution_count": 7,
   "metadata": {},
   "outputs": [],
   "source": [
    "database_connection = sqlalchemy.create_engine('mysql+mysqlconnector://{0}:{1}@{2}/{3}'.format(database_username, database_password, database_ip, database_name))"
   ]
  },
  {
   "cell_type": "markdown",
   "metadata": {},
   "source": [
    "### Run the SQL file to create the table where the data will be stored"
   ]
  },
  {
   "cell_type": "code",
   "execution_count": 8,
   "metadata": {},
   "outputs": [
    {
     "name": "stdout",
     "output_type": "stream",
     "text": [
      "[#########] Running the create_db_schema.sql script\n",
      "Error detected:  1064 (42000): You have an error in your SQL syntax; check the manual that corresponds to your MySQL server version for the right syntax to use near '--drop table IF EXISTS d_trips' at line 1\n",
      "Error detected:  1050 (42S01): Table 'd_trips' already exists\n",
      "Error detected:  1065 (42000): Query was empty\n",
      "[#########] create_db_schema.sql script ran succesfuly\n",
      "[#########] MySQL connection is closed\n"
     ]
    }
   ],
   "source": [
    "# Open and read the file as a single buffer\n",
    "fd = open('create_db_schema.sql', 'r')\n",
    "sqlFile = fd.read()\n",
    "fd.close()\n",
    "\n",
    "# all SQL commands (split on ';')\n",
    "sqlCommands = sqlFile.split(';')\n",
    "\n",
    "\n",
    "try:\n",
    "    print('[#########] Running the create_db_schema.sql script')\n",
    "    \n",
    "    conn = mysql.connector.connect(host=database_ip,\n",
    "                             database=database_name,\n",
    "                             user=database_username,\n",
    "                             password=database_password)\n",
    "    cursor = conn.cursor()\n",
    "    \n",
    "    for command in sqlCommands:\n",
    "        try:\n",
    "            cursor.execute(command)\n",
    "            #print(command)\n",
    "        except Exception as e:\n",
    "            print(f'Error detected: ', str(e))\n",
    "            \n",
    "    print('[#########] create_db_schema.sql script ran succesfuly')\n",
    "    \n",
    "except Exception as e:\n",
    "        print(f'Error detected: ', str(e))\n",
    "finally:\n",
    "    #closing database connection.\n",
    "    if(conn.is_connected()):\n",
    "        conn.close()\n",
    "        print('[#########] MySQL connection is closed')"
   ]
  },
  {
   "cell_type": "markdown",
   "metadata": {},
   "source": [
    "### Load file by file to the database"
   ]
  },
  {
   "cell_type": "code",
   "execution_count": 12,
   "metadata": {},
   "outputs": [
    {
     "name": "stdout",
     "output_type": "stream",
     "text": [
      "[#########] Loading 201306-citibike-tripdata.csv....\n",
      "[#########]  Data saved.\n",
      "[#########] Loading 201307-citibike-tripdata.csv....\n",
      "[#########]  Data saved.\n",
      "[#########] Loading 201308-citibike-tripdata.csv....\n",
      "[#########]  Data saved.\n",
      "[#########] Loading 201309-citibike-tripdata.csv....\n",
      "[#########]  Data saved.\n",
      "[#########] Loading 201310-citibike-tripdata.csv....\n",
      "[#########]  Data saved.\n",
      "[#########] Loading 201311-citibike-tripdata.csv....\n",
      "[#########]  Data saved.\n",
      "[#########] Loading 201312-citibike-tripdata.csv....\n",
      "[#########]  Data saved.\n",
      "[#########] Loading 201401-citibike-tripdata.csv....\n",
      "[#########]  Data saved.\n",
      "[#########] Loading 201402-citibike-tripdata.csv....\n",
      "[#########]  Data saved.\n",
      "[#########] Loading 201403-citibike-tripdata.csv....\n",
      "[#########]  Data saved.\n",
      "[#########] Loading 201404-citibike-tripdata.csv....\n",
      "[#########]  Data saved.\n",
      "[#########] Loading 201405-citibike-tripdata.csv....\n",
      "[#########]  Data saved.\n",
      "[#########] Loading 201406-citibike-tripdata.csv....\n",
      "[#########]  Data saved.\n",
      "[#########] Loading 201407-citibike-tripdata.csv....\n",
      "[#########]  Data saved.\n",
      "[#########] Loading 201408-citibike-tripdata.csv....\n",
      "[#########]  Data saved.\n",
      "[#########] Loading 201409-citibike-tripdata.csv....\n",
      "[#########]  Data saved.\n",
      "[#########] Loading 201410-citibike-tripdata.csv....\n",
      "[#########]  Data saved.\n",
      "[#########] Loading 201411-citibike-tripdata.csv....\n",
      "[#########]  Data saved.\n",
      "[#########] Loading 201412-citibike-tripdata.csv....\n",
      "[#########]  Data saved.\n",
      "[#########] Loading 201501-citibike-tripdata.csv....\n",
      "[#########]  Data saved.\n",
      "[#########] Loading 201502-citibike-tripdata.csv....\n",
      "[#########]  Data saved.\n",
      "[#########] Loading 201503-citibike-tripdata.csv....\n",
      "[#########]  Data saved.\n",
      "[#########] Loading 201504-citibike-tripdata.csv....\n",
      "[#########]  Data saved.\n",
      "[#########] Loading 201505-citibike-tripdata.csv....\n",
      "[#########]  Data saved.\n",
      "[#########] Loading 201506-citibike-tripdata.csv....\n",
      "[#########]  Data saved.\n",
      "[#########] Loading 201507-citibike-tripdata.csv....\n",
      "[#########]  Data saved.\n",
      "[#########] Loading 201508-citibike-tripdata.csv....\n",
      "[#########]  Data saved.\n",
      "[#########] Loading 201509-citibike-tripdata.csv....\n",
      "[#########]  Data saved.\n",
      "[#########] Loading 201510-citibike-tripdata.csv....\n",
      "[#########]  Data saved.\n",
      "[#########] Loading 201511-citibike-tripdata.csv....\n",
      "[#########]  Data saved.\n",
      "[#########] Loading 201512-citibike-tripdata.csv....\n",
      "[#########]  Data saved.\n",
      "[#########] Loading 201601-citibike-tripdata.csv....\n",
      "[#########]  Data saved.\n",
      "[#########] Loading 201602-citibike-tripdata.csv....\n",
      "[#########]  Data saved.\n",
      "[#########] Loading 201603-citibike-tripdata.csv....\n",
      "[#########]  Data saved.\n",
      "[#########] Loading 201604-citibike-tripdata.csv....\n",
      "[#########]  Data saved.\n",
      "[#########] Loading 201605-citibike-tripdata.csv....\n",
      "[#########]  Data saved.\n",
      "[#########] Loading 201606-citibike-tripdata.csv....\n",
      "[#########]  Data saved.\n",
      "[#########] Loading 201607-citibike-tripdata.csv....\n",
      "[#########]  Data saved.\n",
      "[#########] Loading 201608-citibike-tripdata.csv....\n",
      "[#########]  Data saved.\n",
      "[#########] Loading 201609-citibike-tripdata.csv....\n",
      "[#########]  Data saved.\n",
      "[#########] Loading 201610-citibike-tripdata.csv....\n",
      "[#########]  Data saved.\n",
      "[#########] Loading 201611-citibike-tripdata.csv....\n",
      "[#########]  Data saved.\n",
      "[#########] Loading 201612-citibike-tripdata.csv....\n",
      "[#########]  Data saved.\n",
      "[#########] Loading 201701-citibike-tripdata.csv....\n",
      "[#########]  Data saved.\n",
      "[#########] Loading 201702-citibike-tripdata.csv....\n",
      "[#########]  Data saved.\n",
      "[#########] Loading 201703-citibike-tripdata.csv....\n",
      "[#########]  Data saved.\n",
      "[#########] Loading 201704-citibike-tripdata.csv....\n",
      "[#########]  Data saved.\n",
      "[#########] Loading 201705-citibike-tripdata.csv....\n",
      "[#########]  Data saved.\n",
      "[#########] Loading 201706-citibike-tripdata.csv....\n",
      "[#########]  Data saved.\n",
      "[#########] Loading 201707-citibike-tripdata.csv....\n",
      "[#########]  Data saved.\n",
      "[#########] Loading 201708-citibike-tripdata.csv....\n",
      "[#########]  Data saved.\n",
      "[#########] Loading 201709-citibike-tripdata.csv....\n",
      "[#########]  Data saved.\n",
      "[#########] Loading 201710-citibike-tripdata.csv....\n",
      "[#########]  Data saved.\n",
      "[#########] Loading 201711-citibike-tripdata.csv....\n",
      "[#########]  Data saved.\n",
      "[#########] Loading 201712-citibike-tripdata.csv....\n",
      "[#########]  Data saved.\n",
      "[#########] Loading 201801-citibike-tripdata.csv....\n",
      "[#########]  Data saved.\n",
      "[#########] Loading 201802-citibike-tripdata.csv....\n",
      "[#########]  Data saved.\n",
      "[#########] Loading 201803-citibike-tripdata.csv....\n",
      "[#########]  Data saved.\n",
      "[#########] Loading 201804-citibike-tripdata.csv....\n",
      "[#########]  Data saved.\n",
      "[#########] Loading 201805-citibike-tripdata.csv....\n",
      "[#########]  Data saved.\n",
      "[#########] Loading 201806-citibike-tripdata.csv....\n",
      "[#########]  Data saved.\n",
      "[#########] Loading 201807-citibike-tripdata.csv....\n",
      "[#########]  Data saved.\n",
      "[#########] Loading 201808-citibike-tripdata.csv....\n",
      "[#########]  Data saved.\n",
      "[#########] Loading 201809-citibike-tripdata.csv....\n",
      "[#########]  Data saved.\n",
      "[#########] Loading 201810-citibike-tripdata.csv....\n",
      "[#########]  Data saved.\n",
      "[#########] Loading 201811-citibike-tripdata.csv....\n",
      "[#########]  Data saved.\n",
      "[#########] Loading 201812-citibike-tripdata.csv....\n",
      "[#########]  Data saved.\n",
      "[#########] Loading 201901-citibike-tripdata.csv....\n",
      "[#########]  Data saved.\n",
      "[#########] Loading 201902-citibike-tripdata.csv....\n",
      "[#########]  Data saved.\n",
      "[#########] Loading 201903-citibike-tripdata.csv....\n",
      "[#########]  Data saved.\n"
     ]
    }
   ],
   "source": [
    "for file in files:\n",
    "    \n",
    "\n",
    "    tripdata_file = file\n",
    "    \n",
    "    print(f'[#########] Loading {tripdata_file}....')\n",
    "    \n",
    "    df = pd.read_csv(\"data/csv/\"+ tripdata_file)\n",
    "    \n",
    "    df.columns = ['tripduration','starttime','stoptime','start_station_id','start_station_name','start_station_latitude','start_station_longitude','end_station_id','end_station_name','end_station_latitude','end_station_longitude','bikeid','usertype','birth_year','gender']\n",
    "    \n",
    "    df['starttime'] = pd.to_datetime(df['starttime'])\n",
    "    df['stoptime'] = pd.to_datetime(df['stoptime'])\n",
    "\n",
    "    \n",
    "    #df.columns = ['tripduration','starttime','stoptime','start_station_id','start_station_name','start_station_latitude','start_station_longitude','end_station_id','end_station_name','end_station_latitude','end_station_longitude','bikeid','usertype','birth_year','gender']\n",
    "\n",
    "    \n",
    "    ### Se guardan los datos de 10K en 10K en la base de datos\n",
    "    ### porque por alguna razon si se meten mas datos el programa crashea\n",
    "\n",
    "    cargar_de = 10000 \n",
    "\n",
    "    indexx = 0\n",
    "    limit = len(df)\n",
    "\n",
    "    while (indexx<=limit):\n",
    "\n",
    "        final =  indexx + cargar_de\n",
    "\n",
    "        try:\n",
    "            #print(f'[#########] Saving from index {indexx} to {final}.')\n",
    "            df.iloc[indexx:final].to_sql(name='d_trips', con=database_connection, if_exists='append', index=False) \n",
    "\n",
    "        except Exception as e:\n",
    "            print(f'Error detected in file', str(e))\n",
    "\n",
    "        indexx = indexx + cargar_de\n",
    "\n",
    "    print(f'[#########]  Data saved.')"
   ]
  },
  {
   "cell_type": "code",
   "execution_count": null,
   "metadata": {},
   "outputs": [],
   "source": []
  }
 ],
 "metadata": {
  "kernelspec": {
   "display_name": "Python 3",
   "language": "python",
   "name": "python3"
  },
  "language_info": {
   "codemirror_mode": {
    "name": "ipython",
    "version": 3
   },
   "file_extension": ".py",
   "mimetype": "text/x-python",
   "name": "python",
   "nbconvert_exporter": "python",
   "pygments_lexer": "ipython3",
   "version": "3.6.8"
  }
 },
 "nbformat": 4,
 "nbformat_minor": 2
}
